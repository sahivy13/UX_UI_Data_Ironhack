{
 "cells": [
  {
   "cell_type": "markdown",
   "metadata": {},
   "source": [
    "# Data Exploration"
   ]
  },
  {
   "cell_type": "code",
   "execution_count": 1,
   "metadata": {},
   "outputs": [],
   "source": [
    "import pandas as pd\n",
    "import numpy as np"
   ]
  },
  {
   "cell_type": "code",
   "execution_count": 2,
   "metadata": {},
   "outputs": [],
   "source": [
    "db_folder_path = './bookstore/'"
   ]
  },
  {
   "cell_type": "code",
   "execution_count": 3,
   "metadata": {},
   "outputs": [],
   "source": [
    "cart_filename = 'cart.csv'\n",
    "user_filename = 'users.csv'"
   ]
  },
  {
   "cell_type": "code",
   "execution_count": 4,
   "metadata": {},
   "outputs": [],
   "source": [
    "cart_df = pd.read_csv(db_folder_path+cart_filename)\n",
    "user_df = pd.read_csv(db_folder_path+user_filename)"
   ]
  },
  {
   "cell_type": "markdown",
   "metadata": {},
   "source": [
    "## Cart Data"
   ]
  },
  {
   "cell_type": "code",
   "execution_count": 5,
   "metadata": {
    "scrolled": true
   },
   "outputs": [
    {
     "data": {
      "text/html": [
       "<div>\n",
       "<style scoped>\n",
       "    .dataframe tbody tr th:only-of-type {\n",
       "        vertical-align: middle;\n",
       "    }\n",
       "\n",
       "    .dataframe tbody tr th {\n",
       "        vertical-align: top;\n",
       "    }\n",
       "\n",
       "    .dataframe thead th {\n",
       "        text-align: right;\n",
       "    }\n",
       "</style>\n",
       "<table border=\"1\" class=\"dataframe\">\n",
       "  <thead>\n",
       "    <tr style=\"text-align: right;\">\n",
       "      <th></th>\n",
       "      <th>event_time</th>\n",
       "      <th>event_type</th>\n",
       "      <th>isbn</th>\n",
       "      <th>category</th>\n",
       "      <th>price</th>\n",
       "      <th>user_id</th>\n",
       "      <th>user_agent</th>\n",
       "    </tr>\n",
       "  </thead>\n",
       "  <tbody>\n",
       "    <tr>\n",
       "      <th>0</th>\n",
       "      <td>2019-11-01 00:00:51 UTC</td>\n",
       "      <td>remove_from_cart</td>\n",
       "      <td>978-1-68177-962-1</td>\n",
       "      <td>Bibles</td>\n",
       "      <td>5.54</td>\n",
       "      <td>566239468.0</td>\n",
       "      <td>Mozilla/5.0 (Macintosh; Intel Mac OS X 10_7_6 ...</td>\n",
       "    </tr>\n",
       "    <tr>\n",
       "      <th>1</th>\n",
       "      <td>2019-11-01 00:02:02 UTC</td>\n",
       "      <td>view</td>\n",
       "      <td>978-1-121-11580-4</td>\n",
       "      <td>Study Aids</td>\n",
       "      <td>7.14</td>\n",
       "      <td>NaN</td>\n",
       "      <td>Mozilla/5.0 (compatible; MSIE 5.0; Windows NT ...</td>\n",
       "    </tr>\n",
       "    <tr>\n",
       "      <th>2</th>\n",
       "      <td>2019-11-01 00:03:38 UTC</td>\n",
       "      <td>cart</td>\n",
       "      <td>978-1-72613-750-8</td>\n",
       "      <td>Biography &amp; Autobiography</td>\n",
       "      <td>20.16</td>\n",
       "      <td>565876667.0</td>\n",
       "      <td>Opera/9.54.(Windows NT 5.2; ku-TR) Presto/2.9....</td>\n",
       "    </tr>\n",
       "    <tr>\n",
       "      <th>3</th>\n",
       "      <td>2019-11-01 00:03:54 UTC</td>\n",
       "      <td>view</td>\n",
       "      <td>978-0-01-454531-5</td>\n",
       "      <td>Nature</td>\n",
       "      <td>15.71</td>\n",
       "      <td>562076640.0</td>\n",
       "      <td>Mozilla/5.0 (Linux; Android 4.1.2) AppleWebKit...</td>\n",
       "    </tr>\n",
       "    <tr>\n",
       "      <th>4</th>\n",
       "      <td>2019-11-01 00:07:14 UTC</td>\n",
       "      <td>view</td>\n",
       "      <td>978-1-4168-4283-5</td>\n",
       "      <td>Games &amp; Activities</td>\n",
       "      <td>24.92</td>\n",
       "      <td>565876667.0</td>\n",
       "      <td>Opera/9.54.(Windows NT 5.2; ku-TR) Presto/2.9....</td>\n",
       "    </tr>\n",
       "  </tbody>\n",
       "</table>\n",
       "</div>"
      ],
      "text/plain": [
       "                event_time        event_type               isbn  \\\n",
       "0  2019-11-01 00:00:51 UTC  remove_from_cart  978-1-68177-962-1   \n",
       "1  2019-11-01 00:02:02 UTC              view  978-1-121-11580-4   \n",
       "2  2019-11-01 00:03:38 UTC              cart  978-1-72613-750-8   \n",
       "3  2019-11-01 00:03:54 UTC              view  978-0-01-454531-5   \n",
       "4  2019-11-01 00:07:14 UTC              view  978-1-4168-4283-5   \n",
       "\n",
       "                    category  price      user_id  \\\n",
       "0                     Bibles   5.54  566239468.0   \n",
       "1                 Study Aids   7.14          NaN   \n",
       "2  Biography & Autobiography  20.16  565876667.0   \n",
       "3                     Nature  15.71  562076640.0   \n",
       "4         Games & Activities  24.92  565876667.0   \n",
       "\n",
       "                                          user_agent  \n",
       "0  Mozilla/5.0 (Macintosh; Intel Mac OS X 10_7_6 ...  \n",
       "1  Mozilla/5.0 (compatible; MSIE 5.0; Windows NT ...  \n",
       "2  Opera/9.54.(Windows NT 5.2; ku-TR) Presto/2.9....  \n",
       "3  Mozilla/5.0 (Linux; Android 4.1.2) AppleWebKit...  \n",
       "4  Opera/9.54.(Windows NT 5.2; ku-TR) Presto/2.9....  "
      ]
     },
     "execution_count": 5,
     "metadata": {},
     "output_type": "execute_result"
    }
   ],
   "source": [
    "cart_df.head()"
   ]
  },
  {
   "cell_type": "code",
   "execution_count": 37,
   "metadata": {},
   "outputs": [
    {
     "name": "stdout",
     "output_type": "stream",
     "text": [
      "<class 'pandas.core.frame.DataFrame'>\n",
      "RangeIndex: 100000 entries, 0 to 99999\n",
      "Data columns (total 7 columns):\n",
      "event_time    100000 non-null object\n",
      "event_type    100000 non-null object\n",
      "isbn          100000 non-null object\n",
      "category      100000 non-null object\n",
      "price         100000 non-null float64\n",
      "user_id       69027 non-null float64\n",
      "user_agent    100000 non-null object\n",
      "dtypes: float64(2), object(5)\n",
      "memory usage: 5.3+ MB\n"
     ]
    }
   ],
   "source": [
    "cart_df.info()"
   ]
  },
  {
   "cell_type": "code",
   "execution_count": 33,
   "metadata": {},
   "outputs": [
    {
     "data": {
      "text/plain": [
       "False    6882\n",
       "Name: user_id, dtype: int64"
      ]
     },
     "execution_count": 33,
     "metadata": {},
     "output_type": "execute_result"
    }
   ],
   "source": [
    "cart_df[cart_df['event_type'] == 'purchase']['user_id'].isna().value_counts()"
   ]
  },
  {
   "cell_type": "code",
   "execution_count": 29,
   "metadata": {
    "scrolled": true
   },
   "outputs": [
    {
     "data": {
      "text/plain": [
       "Photography                    157\n",
       "Drama                          154\n",
       "Literary Collections           151\n",
       "Language Arts & Disciplines    150\n",
       "Social Science                 148\n",
       "House & Home                   146\n",
       "Young Adult Fiction            143\n",
       "Antiques & Collectibles        142\n",
       "Technology & Engineering       141\n",
       "Law                            141\n",
       "Humor                          139\n",
       "Science                        138\n",
       "Health & Fitness               138\n",
       "Political Science              138\n",
       "Games & Activities             136\n",
       "True Crime                     136\n",
       "Study Aids                     135\n",
       "Reference                      135\n",
       "Bibles                         135\n",
       "Sports & Recreation            134\n",
       "Foreign Language Study         134\n",
       "Travel                         132\n",
       "Crafts & Hobbies               132\n",
       "Young Adult Nonfiction         131\n",
       "Transportation                 130\n",
       "Performing Arts                130\n",
       "Juvenile Fiction               128\n",
       "Philosophy                     128\n",
       "Design                         128\n",
       "Computers                      128\n",
       "Poetry                         128\n",
       "Education                      128\n",
       "Fiction                        127\n",
       "Self-Help                      127\n",
       "Psychology                     127\n",
       "Biography & Autobiography      126\n",
       "History                        125\n",
       "Architecture                   125\n",
       "Medical                        125\n",
       "Literary Criticism             125\n",
       "Cooking                        125\n",
       "Nature                         123\n",
       "Family & Relationships         121\n",
       "Mathematics                    119\n",
       "Music                          118\n",
       "Comics & Graphic Novels        116\n",
       "Juvenile Nonfiction            115\n",
       "Pets                           112\n",
       "Body, Mind & Spirit            111\n",
       "Business & Economics           111\n",
       "Religion                       109\n",
       "Gardening                      105\n",
       "Art                             96\n",
       "Name: category, dtype: int64"
      ]
     },
     "execution_count": 29,
     "metadata": {},
     "output_type": "execute_result"
    }
   ],
   "source": [
    "cart_df[cart_df['event_type'] == 'purchase']['category'].value_counts()"
   ]
  },
  {
   "cell_type": "code",
   "execution_count": 17,
   "metadata": {},
   "outputs": [
    {
     "data": {
      "text/plain": [
       "category\n",
       "Antiques & Collectibles        4.699746\n",
       "Architecture                   4.910402\n",
       "Art                            4.604270\n",
       "Bibles                         6.134740\n",
       "Biography & Autobiography      4.900299\n",
       "Body, Mind & Spirit            5.607350\n",
       "Business & Economics           4.695477\n",
       "Comics & Graphic Novels        5.228743\n",
       "Computers                      6.698289\n",
       "Cooking                        5.209558\n",
       "Crafts & Hobbies               4.941410\n",
       "Design                         5.246905\n",
       "Drama                          4.696754\n",
       "Education                      4.708313\n",
       "Family & Relationships         5.344060\n",
       "Fiction                        5.091261\n",
       "Foreign Language Study         5.668122\n",
       "Games & Activities             5.428431\n",
       "Gardening                      4.855553\n",
       "Health & Fitness               5.512853\n",
       "History                        5.195121\n",
       "House & Home                   4.609305\n",
       "Humor                          5.404776\n",
       "Juvenile Fiction               6.087230\n",
       "Juvenile Nonfiction            4.911289\n",
       "Language Arts & Disciplines    4.575647\n",
       "Law                            5.055746\n",
       "Literary Collections           5.370713\n",
       "Literary Criticism             5.039630\n",
       "Mathematics                    6.030084\n",
       "Medical                        4.852458\n",
       "Music                          4.264522\n",
       "Nature                         5.018195\n",
       "Performing Arts                4.812264\n",
       "Pets                           5.314540\n",
       "Philosophy                     5.975615\n",
       "Photography                    4.543212\n",
       "Poetry                         4.951181\n",
       "Political Science              4.858675\n",
       "Psychology                     4.740235\n",
       "Reference                      6.555909\n",
       "Religion                       5.050597\n",
       "Science                        5.235528\n",
       "Self-Help                      4.607224\n",
       "Social Science                 4.383889\n",
       "Sports & Recreation            4.718710\n",
       "Study Aids                     5.078051\n",
       "Technology & Engineering       5.830432\n",
       "Transportation                 5.821298\n",
       "Travel                         4.798489\n",
       "True Crime                     4.943550\n",
       "Young Adult Fiction            5.740801\n",
       "Young Adult Nonfiction         5.156740\n",
       "Name: price, dtype: float64"
      ]
     },
     "execution_count": 17,
     "metadata": {},
     "output_type": "execute_result"
    }
   ],
   "source": [
    "cart_df[cart_df['event_type'] == 'remove_from_cart'].groupby(by = 'category')['price'].mean()"
   ]
  },
  {
   "cell_type": "code",
   "execution_count": 6,
   "metadata": {},
   "outputs": [
    {
     "name": "stdout",
     "output_type": "stream",
     "text": [
      "remove_from_cart\n",
      "view\n",
      "cart\n",
      "purchase\n"
     ]
    }
   ],
   "source": [
    "for event in list(cart_df['event_type'].unique()):\n",
    "    print(event)"
   ]
  },
  {
   "cell_type": "code",
   "execution_count": 8,
   "metadata": {},
   "outputs": [
    {
     "data": {
      "text/plain": [
       "<matplotlib.axes._subplots.AxesSubplot at 0x1176efe90>"
      ]
     },
     "execution_count": 8,
     "metadata": {},
     "output_type": "execute_result"
    },
    {
     "data": {
      "image/png": "[encoded data removed]",
      "text/plain": [
       "<Figure size 432x288 with 1 Axes>"
      ]
     },
     "metadata": {
      "needs_background": "light"
     },
     "output_type": "display_data"
    }
   ],
   "source": [
    "cart_df.event_type.value_counts().plot.bar()"
   ]
  },
  {
   "cell_type": "code",
   "execution_count": 34,
   "metadata": {},
   "outputs": [
    {
     "data": {
      "text/plain": [
       "Index(['event_time', 'event_type', 'isbn', 'category', 'price', 'user_id',\n",
       "       'user_agent'],\n",
       "      dtype='object')"
      ]
     },
     "execution_count": 34,
     "metadata": {},
     "output_type": "execute_result"
    }
   ],
   "source": [
    "cart_df.columns"
   ]
  },
  {
   "cell_type": "code",
   "execution_count": 36,
   "metadata": {},
   "outputs": [],
   "source": [
    "new_cart_df = cart_df[['event_time', 'event_type', 'category', 'price', 'user_id']]"
   ]
  },
  {
   "cell_type": "markdown",
   "metadata": {},
   "source": [
    "## User Data"
   ]
  },
  {
   "cell_type": "code",
   "execution_count": 6,
   "metadata": {
    "scrolled": false
   },
   "outputs": [
    {
     "data": {
      "text/html": [
       "<div>\n",
       "<style scoped>\n",
       "    .dataframe tbody tr th:only-of-type {\n",
       "        vertical-align: middle;\n",
       "    }\n",
       "\n",
       "    .dataframe tbody tr th {\n",
       "        vertical-align: top;\n",
       "    }\n",
       "\n",
       "    .dataframe thead th {\n",
       "        text-align: right;\n",
       "    }\n",
       "</style>\n",
       "<table border=\"1\" class=\"dataframe\">\n",
       "  <thead>\n",
       "    <tr style=\"text-align: right;\">\n",
       "      <th></th>\n",
       "      <th>user_id</th>\n",
       "      <th>username</th>\n",
       "      <th>password</th>\n",
       "      <th>title</th>\n",
       "      <th>name</th>\n",
       "      <th>suffix</th>\n",
       "      <th>sex</th>\n",
       "      <th>address</th>\n",
       "      <th>email</th>\n",
       "      <th>birthdate</th>\n",
       "      <th>credit_card_number</th>\n",
       "      <th>credit_card_expire</th>\n",
       "      <th>credit_card_provider</th>\n",
       "      <th>credit_card_security_code</th>\n",
       "    </tr>\n",
       "  </thead>\n",
       "  <tbody>\n",
       "    <tr>\n",
       "      <th>0</th>\n",
       "      <td>305464808</td>\n",
       "      <td>kirkt90</td>\n",
       "      <td>7QjsS</td>\n",
       "      <td>NaN</td>\n",
       "      <td>Kirk, T.</td>\n",
       "      <td>NaN</td>\n",
       "      <td>F</td>\n",
       "      <td>88146 Brian Burg Suite 871\\nSouth Marcton, NV ...</td>\n",
       "      <td>kirkt@yahoo.com</td>\n",
       "      <td>Nov 16 1959</td>\n",
       "      <td>4448988541220362</td>\n",
       "      <td>01/26</td>\n",
       "      <td>VISA</td>\n",
       "      <td>648</td>\n",
       "    </tr>\n",
       "    <tr>\n",
       "      <th>1</th>\n",
       "      <td>415424718</td>\n",
       "      <td>kristenwest26</td>\n",
       "      <td>f5XfW</td>\n",
       "      <td>NaN</td>\n",
       "      <td>Kristen West</td>\n",
       "      <td>NaN</td>\n",
       "      <td>F</td>\n",
       "      <td>386 Angela Trafficway\\nSouth Sarah, NH 63374</td>\n",
       "      <td>kristenwest@yahoo.com</td>\n",
       "      <td>11/15/06</td>\n",
       "      <td>30078155364052</td>\n",
       "      <td>08/23</td>\n",
       "      <td>VISA</td>\n",
       "      <td>688</td>\n",
       "    </tr>\n",
       "    <tr>\n",
       "      <th>2</th>\n",
       "      <td>491534059</td>\n",
       "      <td>jodihester6</td>\n",
       "      <td>8xwDc</td>\n",
       "      <td>NaN</td>\n",
       "      <td>Jodi Hester</td>\n",
       "      <td>NaN</td>\n",
       "      <td>F</td>\n",
       "      <td>52461 Joel Route Apt. 492\\nWest Candace, IL 45057</td>\n",
       "      <td>jodihester@gmail.com</td>\n",
       "      <td>1936-03-07</td>\n",
       "      <td>3573829156543392</td>\n",
       "      <td>04/21</td>\n",
       "      <td>VISA</td>\n",
       "      <td>46</td>\n",
       "    </tr>\n",
       "    <tr>\n",
       "      <th>3</th>\n",
       "      <td>344018551</td>\n",
       "      <td>rosejudy96</td>\n",
       "      <td>6AjYt</td>\n",
       "      <td>NaN</td>\n",
       "      <td>Rose, Judy</td>\n",
       "      <td>NaN</td>\n",
       "      <td>F</td>\n",
       "      <td>077 Patterson Mountains\\nChristophermouth, HI ...</td>\n",
       "      <td>rosejudy@hotmail.com</td>\n",
       "      <td>09/06/99</td>\n",
       "      <td>5177223986533879</td>\n",
       "      <td>06/26</td>\n",
       "      <td>Mastercard</td>\n",
       "      <td>35</td>\n",
       "    </tr>\n",
       "    <tr>\n",
       "      <th>4</th>\n",
       "      <td>308521287</td>\n",
       "      <td>joshuakochdds21</td>\n",
       "      <td>s8Eld</td>\n",
       "      <td>Mr.</td>\n",
       "      <td>Joshua Koch</td>\n",
       "      <td>DDS</td>\n",
       "      <td>M</td>\n",
       "      <td>7083 Samantha Streets Suite 832\\nAndrewview, C...</td>\n",
       "      <td>joshuakochdds@hotmail.com</td>\n",
       "      <td>Sep 08 1913</td>\n",
       "      <td>3523787527165249</td>\n",
       "      <td>07/28</td>\n",
       "      <td>VISA</td>\n",
       "      <td>668</td>\n",
       "    </tr>\n",
       "  </tbody>\n",
       "</table>\n",
       "</div>"
      ],
      "text/plain": [
       "     user_id         username password title          name suffix sex  \\\n",
       "0  305464808          kirkt90    7QjsS   NaN      Kirk, T.    NaN   F   \n",
       "1  415424718    kristenwest26    f5XfW   NaN  Kristen West    NaN   F   \n",
       "2  491534059      jodihester6    8xwDc   NaN   Jodi Hester    NaN   F   \n",
       "3  344018551       rosejudy96    6AjYt   NaN    Rose, Judy    NaN   F   \n",
       "4  308521287  joshuakochdds21    s8Eld   Mr.   Joshua Koch    DDS   M   \n",
       "\n",
       "                                             address  \\\n",
       "0  88146 Brian Burg Suite 871\\nSouth Marcton, NV ...   \n",
       "1       386 Angela Trafficway\\nSouth Sarah, NH 63374   \n",
       "2  52461 Joel Route Apt. 492\\nWest Candace, IL 45057   \n",
       "3  077 Patterson Mountains\\nChristophermouth, HI ...   \n",
       "4  7083 Samantha Streets Suite 832\\nAndrewview, C...   \n",
       "\n",
       "                       email    birthdate  credit_card_number  \\\n",
       "0            kirkt@yahoo.com  Nov 16 1959    4448988541220362   \n",
       "1      kristenwest@yahoo.com     11/15/06      30078155364052   \n",
       "2       jodihester@gmail.com   1936-03-07    3573829156543392   \n",
       "3       rosejudy@hotmail.com     09/06/99    5177223986533879   \n",
       "4  joshuakochdds@hotmail.com  Sep 08 1913    3523787527165249   \n",
       "\n",
       "  credit_card_expire credit_card_provider  credit_card_security_code  \n",
       "0              01/26                 VISA                        648  \n",
       "1              08/23                 VISA                        688  \n",
       "2              04/21                 VISA                         46  \n",
       "3              06/26           Mastercard                         35  \n",
       "4              07/28                 VISA                        668  "
      ]
     },
     "execution_count": 6,
     "metadata": {},
     "output_type": "execute_result"
    }
   ],
   "source": [
    "user_df.head()"
   ]
  },
  {
   "cell_type": "code",
   "execution_count": 63,
   "metadata": {},
   "outputs": [],
   "source": [
    "user_df['state_and_zip_code'] = user_df['address'].apply(lambda x: x.split(\" \")[-2:])\n",
    "user_df['state'] = user_df['state_and_zip_code'].apply(lambda x: x[0])\n",
    "user_df['zip_code'] = user_df['state_and_zip_code'].apply(lambda x: x[1])\n",
    "user_df.drop(columns = ['state_and_zip_code', 'address'], inplace = True)"
   ]
  },
  {
   "cell_type": "code",
   "execution_count": 51,
   "metadata": {},
   "outputs": [],
   "source": [
    "user_df['length_card_number'] = user_df['credit_card_number'].apply(lambda x: len(str(x)))"
   ]
  },
  {
   "cell_type": "code",
   "execution_count": 53,
   "metadata": {},
   "outputs": [
    {
     "data": {
      "text/html": [
       "<div>\n",
       "<style scoped>\n",
       "    .dataframe tbody tr th:only-of-type {\n",
       "        vertical-align: middle;\n",
       "    }\n",
       "\n",
       "    .dataframe tbody tr th {\n",
       "        vertical-align: top;\n",
       "    }\n",
       "\n",
       "    .dataframe thead th {\n",
       "        text-align: right;\n",
       "    }\n",
       "</style>\n",
       "<table border=\"1\" class=\"dataframe\">\n",
       "  <thead>\n",
       "    <tr style=\"text-align: right;\">\n",
       "      <th></th>\n",
       "      <th></th>\n",
       "      <th>length_card_number</th>\n",
       "    </tr>\n",
       "    <tr>\n",
       "      <th>credit_card_provider</th>\n",
       "      <th>length_card_number</th>\n",
       "      <th></th>\n",
       "    </tr>\n",
       "  </thead>\n",
       "  <tbody>\n",
       "    <tr>\n",
       "      <th rowspan=\"7\" valign=\"top\">American Express</th>\n",
       "      <th>16</th>\n",
       "      <td>2087</td>\n",
       "    </tr>\n",
       "    <tr>\n",
       "      <th>15</th>\n",
       "      <td>674</td>\n",
       "    </tr>\n",
       "    <tr>\n",
       "      <th>19</th>\n",
       "      <td>374</td>\n",
       "    </tr>\n",
       "    <tr>\n",
       "      <th>12</th>\n",
       "      <td>333</td>\n",
       "    </tr>\n",
       "    <tr>\n",
       "      <th>13</th>\n",
       "      <td>330</td>\n",
       "    </tr>\n",
       "    <tr>\n",
       "      <th>14</th>\n",
       "      <td>323</td>\n",
       "    </tr>\n",
       "    <tr>\n",
       "      <th>11</th>\n",
       "      <td>31</td>\n",
       "    </tr>\n",
       "    <tr>\n",
       "      <th rowspan=\"7\" valign=\"top\">Diners Club / Carte Blanche</th>\n",
       "      <th>16</th>\n",
       "      <td>2064</td>\n",
       "    </tr>\n",
       "    <tr>\n",
       "      <th>15</th>\n",
       "      <td>693</td>\n",
       "    </tr>\n",
       "    <tr>\n",
       "      <th>13</th>\n",
       "      <td>360</td>\n",
       "    </tr>\n",
       "    <tr>\n",
       "      <th>19</th>\n",
       "      <td>351</td>\n",
       "    </tr>\n",
       "    <tr>\n",
       "      <th>12</th>\n",
       "      <td>342</td>\n",
       "    </tr>\n",
       "    <tr>\n",
       "      <th>14</th>\n",
       "      <td>321</td>\n",
       "    </tr>\n",
       "    <tr>\n",
       "      <th>11</th>\n",
       "      <td>33</td>\n",
       "    </tr>\n",
       "    <tr>\n",
       "      <th rowspan=\"7\" valign=\"top\">Discover</th>\n",
       "      <th>16</th>\n",
       "      <td>2058</td>\n",
       "    </tr>\n",
       "    <tr>\n",
       "      <th>15</th>\n",
       "      <td>630</td>\n",
       "    </tr>\n",
       "    <tr>\n",
       "      <th>19</th>\n",
       "      <td>331</td>\n",
       "    </tr>\n",
       "    <tr>\n",
       "      <th>13</th>\n",
       "      <td>317</td>\n",
       "    </tr>\n",
       "    <tr>\n",
       "      <th>14</th>\n",
       "      <td>316</td>\n",
       "    </tr>\n",
       "    <tr>\n",
       "      <th>12</th>\n",
       "      <td>305</td>\n",
       "    </tr>\n",
       "    <tr>\n",
       "      <th>11</th>\n",
       "      <td>22</td>\n",
       "    </tr>\n",
       "    <tr>\n",
       "      <th rowspan=\"7\" valign=\"top\">Maestro</th>\n",
       "      <th>16</th>\n",
       "      <td>2027</td>\n",
       "    </tr>\n",
       "    <tr>\n",
       "      <th>15</th>\n",
       "      <td>690</td>\n",
       "    </tr>\n",
       "    <tr>\n",
       "      <th>13</th>\n",
       "      <td>349</td>\n",
       "    </tr>\n",
       "    <tr>\n",
       "      <th>19</th>\n",
       "      <td>336</td>\n",
       "    </tr>\n",
       "    <tr>\n",
       "      <th>14</th>\n",
       "      <td>326</td>\n",
       "    </tr>\n",
       "    <tr>\n",
       "      <th>12</th>\n",
       "      <td>302</td>\n",
       "    </tr>\n",
       "    <tr>\n",
       "      <th>11</th>\n",
       "      <td>34</td>\n",
       "    </tr>\n",
       "    <tr>\n",
       "      <th rowspan=\"7\" valign=\"top\">Mastercard</th>\n",
       "      <th>16</th>\n",
       "      <td>5200</td>\n",
       "    </tr>\n",
       "    <tr>\n",
       "      <th>15</th>\n",
       "      <td>1769</td>\n",
       "    </tr>\n",
       "    <tr>\n",
       "      <th>13</th>\n",
       "      <td>904</td>\n",
       "    </tr>\n",
       "    <tr>\n",
       "      <th>14</th>\n",
       "      <td>897</td>\n",
       "    </tr>\n",
       "    <tr>\n",
       "      <th>19</th>\n",
       "      <td>863</td>\n",
       "    </tr>\n",
       "    <tr>\n",
       "      <th>12</th>\n",
       "      <td>816</td>\n",
       "    </tr>\n",
       "    <tr>\n",
       "      <th>11</th>\n",
       "      <td>62</td>\n",
       "    </tr>\n",
       "    <tr>\n",
       "      <th rowspan=\"7\" valign=\"top\">VISA</th>\n",
       "      <th>16</th>\n",
       "      <td>11389</td>\n",
       "    </tr>\n",
       "    <tr>\n",
       "      <th>15</th>\n",
       "      <td>3761</td>\n",
       "    </tr>\n",
       "    <tr>\n",
       "      <th>13</th>\n",
       "      <td>1930</td>\n",
       "    </tr>\n",
       "    <tr>\n",
       "      <th>19</th>\n",
       "      <td>1905</td>\n",
       "    </tr>\n",
       "    <tr>\n",
       "      <th>14</th>\n",
       "      <td>1872</td>\n",
       "    </tr>\n",
       "    <tr>\n",
       "      <th>12</th>\n",
       "      <td>1730</td>\n",
       "    </tr>\n",
       "    <tr>\n",
       "      <th>11</th>\n",
       "      <td>152</td>\n",
       "    </tr>\n",
       "  </tbody>\n",
       "</table>\n",
       "</div>"
      ],
      "text/plain": [
       "                                                length_card_number\n",
       "credit_card_provider        length_card_number                    \n",
       "American Express            16                                2087\n",
       "                            15                                 674\n",
       "                            19                                 374\n",
       "                            12                                 333\n",
       "                            13                                 330\n",
       "                            14                                 323\n",
       "                            11                                  31\n",
       "Diners Club / Carte Blanche 16                                2064\n",
       "                            15                                 693\n",
       "                            13                                 360\n",
       "                            19                                 351\n",
       "                            12                                 342\n",
       "                            14                                 321\n",
       "                            11                                  33\n",
       "Discover                    16                                2058\n",
       "                            15                                 630\n",
       "                            19                                 331\n",
       "                            13                                 317\n",
       "                            14                                 316\n",
       "                            12                                 305\n",
       "                            11                                  22\n",
       "Maestro                     16                                2027\n",
       "                            15                                 690\n",
       "                            13                                 349\n",
       "                            19                                 336\n",
       "                            14                                 326\n",
       "                            12                                 302\n",
       "                            11                                  34\n",
       "Mastercard                  16                                5200\n",
       "                            15                                1769\n",
       "                            13                                 904\n",
       "                            14                                 897\n",
       "                            19                                 863\n",
       "                            12                                 816\n",
       "                            11                                  62\n",
       "VISA                        16                               11389\n",
       "                            15                                3761\n",
       "                            13                                1930\n",
       "                            19                                1905\n",
       "                            14                                1872\n",
       "                            12                                1730\n",
       "                            11                                 152"
      ]
     },
     "execution_count": 53,
     "metadata": {},
     "output_type": "execute_result"
    }
   ],
   "source": [
    "pd.DataFrame(user_df.groupby(by = 'credit_card_provider')['length_card_number'].value_counts())"
   ]
  },
  {
   "cell_type": "code",
   "execution_count": 44,
   "metadata": {},
   "outputs": [
    {
     "name": "stdout",
     "output_type": "stream",
     "text": [
      "<class 'pandas.core.frame.DataFrame'>\n",
      "RangeIndex: 49609 entries, 0 to 49608\n",
      "Data columns (total 14 columns):\n",
      "user_id                      49609 non-null int64\n",
      "username                     49609 non-null object\n",
      "password                     49609 non-null object\n",
      "title                        988 non-null object\n",
      "name                         49609 non-null object\n",
      "suffix                       1226 non-null object\n",
      "sex                          49609 non-null object\n",
      "address                      49609 non-null object\n",
      "email                        49609 non-null object\n",
      "birthdate                    49609 non-null object\n",
      "credit_card_number           49609 non-null int64\n",
      "credit_card_expire           49609 non-null object\n",
      "credit_card_provider         49609 non-null object\n",
      "credit_card_security_code    49609 non-null int64\n",
      "dtypes: int64(3), object(11)\n",
      "memory usage: 5.3+ MB\n"
     ]
    }
   ],
   "source": [
    "user_df.info()"
   ]
  },
  {
   "cell_type": "code",
   "execution_count": 66,
   "metadata": {},
   "outputs": [],
   "source": [
    "new_user_df = user_df[['user_id', 'sex', 'birthdate', 'state', 'zip_code']]"
   ]
  },
  {
   "cell_type": "code",
   "execution_count": 64,
   "metadata": {},
   "outputs": [
    {
     "data": {
      "text/html": [
       "<div>\n",
       "<style scoped>\n",
       "    .dataframe tbody tr th:only-of-type {\n",
       "        vertical-align: middle;\n",
       "    }\n",
       "\n",
       "    .dataframe tbody tr th {\n",
       "        vertical-align: top;\n",
       "    }\n",
       "\n",
       "    .dataframe thead th {\n",
       "        text-align: right;\n",
       "    }\n",
       "</style>\n",
       "<table border=\"1\" class=\"dataframe\">\n",
       "  <thead>\n",
       "    <tr style=\"text-align: right;\">\n",
       "      <th></th>\n",
       "      <th>user_id</th>\n",
       "      <th>username</th>\n",
       "      <th>password</th>\n",
       "      <th>title</th>\n",
       "      <th>name</th>\n",
       "      <th>suffix</th>\n",
       "      <th>sex</th>\n",
       "      <th>email</th>\n",
       "      <th>birthdate</th>\n",
       "      <th>credit_card_number</th>\n",
       "      <th>credit_card_expire</th>\n",
       "      <th>credit_card_provider</th>\n",
       "      <th>credit_card_security_code</th>\n",
       "      <th>length_card_number</th>\n",
       "      <th>state</th>\n",
       "      <th>zip_code</th>\n",
       "    </tr>\n",
       "  </thead>\n",
       "  <tbody>\n",
       "    <tr>\n",
       "      <th>0</th>\n",
       "      <td>305464808</td>\n",
       "      <td>kirkt90</td>\n",
       "      <td>7QjsS</td>\n",
       "      <td>NaN</td>\n",
       "      <td>Kirk, T.</td>\n",
       "      <td>NaN</td>\n",
       "      <td>F</td>\n",
       "      <td>kirkt@yahoo.com</td>\n",
       "      <td>Nov 16 1959</td>\n",
       "      <td>4448988541220362</td>\n",
       "      <td>01/26</td>\n",
       "      <td>VISA</td>\n",
       "      <td>648</td>\n",
       "      <td>16</td>\n",
       "      <td>NV</td>\n",
       "      <td>10530</td>\n",
       "    </tr>\n",
       "    <tr>\n",
       "      <th>1</th>\n",
       "      <td>415424718</td>\n",
       "      <td>kristenwest26</td>\n",
       "      <td>f5XfW</td>\n",
       "      <td>NaN</td>\n",
       "      <td>Kristen West</td>\n",
       "      <td>NaN</td>\n",
       "      <td>F</td>\n",
       "      <td>kristenwest@yahoo.com</td>\n",
       "      <td>11/15/06</td>\n",
       "      <td>30078155364052</td>\n",
       "      <td>08/23</td>\n",
       "      <td>VISA</td>\n",
       "      <td>688</td>\n",
       "      <td>14</td>\n",
       "      <td>NH</td>\n",
       "      <td>63374</td>\n",
       "    </tr>\n",
       "    <tr>\n",
       "      <th>2</th>\n",
       "      <td>491534059</td>\n",
       "      <td>jodihester6</td>\n",
       "      <td>8xwDc</td>\n",
       "      <td>NaN</td>\n",
       "      <td>Jodi Hester</td>\n",
       "      <td>NaN</td>\n",
       "      <td>F</td>\n",
       "      <td>jodihester@gmail.com</td>\n",
       "      <td>1936-03-07</td>\n",
       "      <td>3573829156543392</td>\n",
       "      <td>04/21</td>\n",
       "      <td>VISA</td>\n",
       "      <td>46</td>\n",
       "      <td>16</td>\n",
       "      <td>IL</td>\n",
       "      <td>45057</td>\n",
       "    </tr>\n",
       "    <tr>\n",
       "      <th>3</th>\n",
       "      <td>344018551</td>\n",
       "      <td>rosejudy96</td>\n",
       "      <td>6AjYt</td>\n",
       "      <td>NaN</td>\n",
       "      <td>Rose, Judy</td>\n",
       "      <td>NaN</td>\n",
       "      <td>F</td>\n",
       "      <td>rosejudy@hotmail.com</td>\n",
       "      <td>09/06/99</td>\n",
       "      <td>5177223986533879</td>\n",
       "      <td>06/26</td>\n",
       "      <td>Mastercard</td>\n",
       "      <td>35</td>\n",
       "      <td>16</td>\n",
       "      <td>HI</td>\n",
       "      <td>82365</td>\n",
       "    </tr>\n",
       "    <tr>\n",
       "      <th>4</th>\n",
       "      <td>308521287</td>\n",
       "      <td>joshuakochdds21</td>\n",
       "      <td>s8Eld</td>\n",
       "      <td>Mr.</td>\n",
       "      <td>Joshua Koch</td>\n",
       "      <td>DDS</td>\n",
       "      <td>M</td>\n",
       "      <td>joshuakochdds@hotmail.com</td>\n",
       "      <td>Sep 08 1913</td>\n",
       "      <td>3523787527165249</td>\n",
       "      <td>07/28</td>\n",
       "      <td>VISA</td>\n",
       "      <td>668</td>\n",
       "      <td>16</td>\n",
       "      <td>CO</td>\n",
       "      <td>21622</td>\n",
       "    </tr>\n",
       "  </tbody>\n",
       "</table>\n",
       "</div>"
      ],
      "text/plain": [
       "     user_id         username password title          name suffix sex  \\\n",
       "0  305464808          kirkt90    7QjsS   NaN      Kirk, T.    NaN   F   \n",
       "1  415424718    kristenwest26    f5XfW   NaN  Kristen West    NaN   F   \n",
       "2  491534059      jodihester6    8xwDc   NaN   Jodi Hester    NaN   F   \n",
       "3  344018551       rosejudy96    6AjYt   NaN    Rose, Judy    NaN   F   \n",
       "4  308521287  joshuakochdds21    s8Eld   Mr.   Joshua Koch    DDS   M   \n",
       "\n",
       "                       email    birthdate  credit_card_number  \\\n",
       "0            kirkt@yahoo.com  Nov 16 1959    4448988541220362   \n",
       "1      kristenwest@yahoo.com     11/15/06      30078155364052   \n",
       "2       jodihester@gmail.com   1936-03-07    3573829156543392   \n",
       "3       rosejudy@hotmail.com     09/06/99    5177223986533879   \n",
       "4  joshuakochdds@hotmail.com  Sep 08 1913    3523787527165249   \n",
       "\n",
       "  credit_card_expire credit_card_provider  credit_card_security_code  \\\n",
       "0              01/26                 VISA                        648   \n",
       "1              08/23                 VISA                        688   \n",
       "2              04/21                 VISA                         46   \n",
       "3              06/26           Mastercard                         35   \n",
       "4              07/28                 VISA                        668   \n",
       "\n",
       "   length_card_number state zip_code  \n",
       "0                  16    NV    10530  \n",
       "1                  14    NH    63374  \n",
       "2                  16    IL    45057  \n",
       "3                  16    HI    82365  \n",
       "4                  16    CO    21622  "
      ]
     },
     "execution_count": 64,
     "metadata": {},
     "output_type": "execute_result"
    }
   ],
   "source": [
    "new_user_df.head()"
   ]
  },
  {
   "cell_type": "code",
   "execution_count": 69,
   "metadata": {
    "scrolled": true
   },
   "outputs": [
    {
     "data": {
      "text/plain": [
       "AA    1795\n",
       "AP    1773\n",
       "AE    1765\n",
       "AR     931\n",
       "OK     916\n",
       "Name: state, dtype: int64"
      ]
     },
     "execution_count": 69,
     "metadata": {},
     "output_type": "execute_result"
    }
   ],
   "source": [
    "new_user_df.state.value_counts()[:5]"
   ]
  },
  {
   "cell_type": "code",
   "execution_count": 79,
   "metadata": {},
   "outputs": [
    {
     "name": "stderr",
     "output_type": "stream",
     "text": [
      "/Library/Frameworks/Python.framework/Versions/3.7/lib/python3.7/site-packages/ipykernel_launcher.py:1: SettingWithCopyWarning: \n",
      "A value is trying to be set on a copy of a slice from a DataFrame.\n",
      "Try using .loc[row_indexer,col_indexer] = value instead\n",
      "\n",
      "See the caveats in the documentation: http://pandas.pydata.org/pandas-docs/stable/user_guide/indexing.html#returning-a-view-versus-a-copy\n",
      "  \"\"\"Entry point for launching an IPython kernel.\n"
     ]
    }
   ],
   "source": [
    "new_user_df['age'] = new_user_df['birthdate'].apply(lambda x: 2020-int(pd.to_datetime(x).strftime('%Y')))"
   ]
  },
  {
   "cell_type": "code",
   "execution_count": 82,
   "metadata": {},
   "outputs": [
    {
     "data": {
      "text/plain": [
       "61"
      ]
     },
     "execution_count": 82,
     "metadata": {},
     "output_type": "execute_result"
    }
   ],
   "source": [
    "2020-int(pd.to_datetime(new_user_df['birthdate'][0]).strftime('%Y'))"
   ]
  },
  {
   "cell_type": "code",
   "execution_count": 80,
   "metadata": {},
   "outputs": [
    {
     "data": {
      "text/plain": [
       " 6     623\n",
       " 7     617\n",
       " 3     609\n",
       " 12    607\n",
       " 8     599\n",
       "      ... \n",
       "-49    130\n",
       "-40    127\n",
       "-13    127\n",
       "-23    124\n",
       "-36    120\n",
       "Name: age, Length: 166, dtype: int64"
      ]
     },
     "execution_count": 80,
     "metadata": {},
     "output_type": "execute_result"
    }
   ],
   "source": [
    "new_user_df['age'].value_counts() #There are ages that makes no sense"
   ]
  },
  {
   "cell_type": "code",
   "execution_count": 83,
   "metadata": {},
   "outputs": [],
   "source": [
    "new_user_df = new_user_df[new_user_df['age'] >= 18]"
   ]
  },
  {
   "cell_type": "code",
   "execution_count": 84,
   "metadata": {},
   "outputs": [
    {
     "data": {
      "text/plain": [
       "28     478\n",
       "31     472\n",
       "40     469\n",
       "43     453\n",
       "18     451\n",
       "      ... \n",
       "89     260\n",
       "87     259\n",
       "88     257\n",
       "68     254\n",
       "116    244\n",
       "Name: age, Length: 99, dtype: int64"
      ]
     },
     "execution_count": 84,
     "metadata": {},
     "output_type": "execute_result"
    }
   ],
   "source": [
    "new_user_df['age'].value_counts()[]"
   ]
  },
  {
   "cell_type": "code",
   "execution_count": 88,
   "metadata": {},
   "outputs": [],
   "source": [
    "new_user_df.drop(columns = ['birthdate', 'birthdate_datetime'] , inplace = True)"
   ]
  },
  {
   "cell_type": "code",
   "execution_count": 89,
   "metadata": {
    "scrolled": true
   },
   "outputs": [
    {
     "name": "stdout",
     "output_type": "stream",
     "text": [
      "<class 'pandas.core.frame.DataFrame'>\n",
      "Int64Index: 32666 entries, 0 to 49607\n",
      "Data columns (total 5 columns):\n",
      "user_id     32666 non-null int64\n",
      "sex         32666 non-null object\n",
      "state       32666 non-null object\n",
      "zip_code    32666 non-null object\n",
      "age         32666 non-null int64\n",
      "dtypes: int64(2), object(3)\n",
      "memory usage: 2.7+ MB\n"
     ]
    }
   ],
   "source": [
    "new_user_df.info()"
   ]
  },
  {
   "cell_type": "code",
   "execution_count": null,
   "metadata": {},
   "outputs": [],
   "source": []
  }
 ],
 "metadata": {
  "kernelspec": {
   "display_name": "Python 3",
   "language": "python",
   "name": "python3"
  },
  "language_info": {
   "codemirror_mode": {
    "name": "ipython",
    "version": 3
   },
   "file_extension": ".py",
   "mimetype": "text/x-python",
   "name": "python",
   "nbconvert_exporter": "python",
   "pygments_lexer": "ipython3",
   "version": "3.7.4"
  },
  "toc": {
   "base_numbering": 1,
   "nav_menu": {},
   "number_sections": true,
   "sideBar": true,
   "skip_h1_title": false,
   "title_cell": "Table of Contents",
   "title_sidebar": "Contents",
   "toc_cell": false,
   "toc_position": {},
   "toc_section_display": true,
   "toc_window_display": false
  }
 },
 "nbformat": 4,
 "nbformat_minor": 2
}
